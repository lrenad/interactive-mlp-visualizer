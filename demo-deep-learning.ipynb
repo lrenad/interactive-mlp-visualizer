{
 "cells": [
  {
   "cell_type": "markdown",
   "id": "2298b3fd-0976-4e36-9a0f-2ae7871049df",
   "metadata": {},
   "source": [
    "## Classification with Multilayer Perceptron"
   ]
  },
  {
   "cell_type": "code",
   "execution_count": 5,
   "id": "faf18e13-e014-40cb-bdef-0b54d14271bd",
   "metadata": {},
   "outputs": [
    {
     "data": {
      "application/vnd.jupyter.widget-view+json": {
       "model_id": "70a36a50d7d24789b50f9cc89a5dce8f",
       "version_major": 2,
       "version_minor": 0
      },
      "text/plain": [
       "interactive(children=(IntSlider(value=1, description='Hidden Layer Size', max=10, min=1), Output()), _dom_clas…"
      ]
     },
     "metadata": {},
     "output_type": "display_data"
    }
   ],
   "source": [
    "import numpy as np\n",
    "import matplotlib.pyplot as plt\n",
    "from sklearn.datasets import make_circles\n",
    "from sklearn.neural_network import MLPClassifier\n",
    "import ipywidgets as widgets\n",
    "from IPython.display import display\n",
    "from ipywidgets import interactive\n",
    "\n",
    "# Generate synthetic data (circle) - This should be outside the function\n",
    "X, y = make_circles(n_samples=300, noise=0.1, factor=0.5, random_state=0)\n",
    "\n",
    "# Function to update and display the plot\n",
    "def update_plot(hidden_layer_size):\n",
    "    # Create a multi-layer perceptron (MLP) classifier\n",
    "    clf = MLPClassifier(hidden_layer_sizes=(hidden_layer_size,),\n",
    "                        activation='relu', max_iter=3000, random_state=1)\n",
    "    \n",
    "    # Fit the Classifier to the data\n",
    "    clf.fit(X, y)\n",
    "\n",
    "    # Create a grid of points for visualization\n",
    "    # These are 1D arrays of 100 values each, representing the x and y coordinates of the grid.\n",
    "    x_vals = np.linspace(X[:, 0].min() - 0.1, X[:, 0].max() + 0.1, 100)\n",
    "    y_vals = np.linspace(X[:, 1].min() - 0.1, X[:, 1].max() + 0.1, 100)\n",
    "\n",
    "    # The resulting X_plane and Y_plane are both 100x100 arrays,\n",
    "    # representing a grid of 10,000 points.\n",
    "    X_plane, Y_plane = np.meshgrid(x_vals, y_vals)\n",
    "\n",
    "    # grid_points is a single 2D array (grid_points) of shape (10000, 2),\n",
    "    # where each row represents a point in the grid\n",
    "    grid_points = np.column_stack((X_plane.ravel(), Y_plane.ravel()))\n",
    "\n",
    "    # Predict class labels for the grid points (for decision boundary)\n",
    "    Z = clf.predict(grid_points)\n",
    "\n",
    "    # Z.reshape(X_plane.shape) reshapes Z into a 100x100 array\n",
    "    Z = Z.reshape(X_plane.shape)\n",
    "\n",
    "    # Predict class labels for the original data points\n",
    "    y_pred = clf.predict(X)\n",
    "\n",
    "    # Clear previous plot\n",
    "    plt.clf()\n",
    "\n",
    "    # Plot the decision boundary\n",
    "    plt.contourf(X_plane, Y_plane, Z, levels=[-0.5, 0.5, 1.5], cmap=plt.cm.RdYlGn, alpha=0.6)\n",
    "\n",
    "    # Plot the original data points with their predicted labels\n",
    "    class_0 = y_pred == 0 # Indices of points predicted as class 0\n",
    "    class_1 = y_pred == 1 # Indices of points predicted as class 1\n",
    "\n",
    "    plt.scatter(X[class_0, 0], X[class_0, 1], c='red', edgecolors='k', marker='o', s=50, label='Predicted Class 0')\n",
    "    plt.scatter(X[class_1, 0], X[class_1, 1], c='green', edgecolors='k', marker='o', s=50, label='Predicted Class 1')\n",
    "\n",
    "    # Add Labels and title\n",
    "    plt.xlabel('Feature 1')\n",
    "    plt.ylabel('Feature 2')\n",
    "    plt.title(f'Decision Boundary and Predicted Labels (Hidden Layer Size={hidden_layer_size})')\n",
    "    plt.legend()\n",
    "    plt.show()\n",
    "\n",
    "# Create a slider for hidden layer size\n",
    "hidden_layer_size_slider = widgets.IntSlider(value=1, min=1, max=10, step=1, description='Hidden Layer Size')\n",
    "\n",
    "# Create an interactive widget\n",
    "interactive_plot = interactive(update_plot, hidden_layer_size=hidden_layer_size_slider)\n",
    "\n",
    "# Display the widgets\n",
    "display(interactive_plot)"
   ]
  },
  {
   "cell_type": "code",
   "execution_count": null,
   "id": "3dae5f78-14ab-4d2d-ac53-0a7268963e80",
   "metadata": {},
   "outputs": [],
   "source": []
  }
 ],
 "metadata": {
  "kernelspec": {
   "display_name": "Python [conda env:base] *",
   "language": "python",
   "name": "conda-base-py"
  },
  "language_info": {
   "codemirror_mode": {
    "name": "ipython",
    "version": 3
   },
   "file_extension": ".py",
   "mimetype": "text/x-python",
   "name": "python",
   "nbconvert_exporter": "python",
   "pygments_lexer": "ipython3",
   "version": "3.13.5"
  }
 },
 "nbformat": 4,
 "nbformat_minor": 5
}
